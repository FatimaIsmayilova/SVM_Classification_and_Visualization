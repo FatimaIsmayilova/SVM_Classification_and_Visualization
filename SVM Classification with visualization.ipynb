{
 "cells": [
  {
   "cell_type": "code",
   "execution_count": null,
   "id": "28a70867",
   "metadata": {},
   "outputs": [],
   "source": [
    "import pandas as pd\n",
    "import numpy as np \n",
    "import matplotlib.pyplot as plt \n",
    "%matplotlib inline"
   ]
  },
  {
   "cell_type": "markdown",
   "id": "60690b97",
   "metadata": {},
   "source": [
    "# Part 1 - Simple Dataset which is created by us"
   ]
  },
  {
   "cell_type": "code",
   "execution_count": null,
   "id": "c42f0877",
   "metadata": {},
   "outputs": [],
   "source": [
    "x = np.linspace(-5.0,5.0,100)\n",
    "y = np.sqrt(10**2 - x**2)\n",
    "\n",
    "x = np.hstack([x,-x])\n",
    "y = np.hstack([y,-y])"
   ]
  },
  {
   "cell_type": "code",
   "execution_count": null,
   "id": "e9273838",
   "metadata": {},
   "outputs": [],
   "source": [
    "x1 = np.linspace(-5.0,5.0,100)\n",
    "y1 = np.sqrt(5**2 - x1**2)\n",
    "\n",
    "x1 = np.hstack([x1,-x1])\n",
    "y1 = np.hstack([y1,-y1])"
   ]
  },
  {
   "cell_type": "code",
   "execution_count": null,
   "id": "149e9fac",
   "metadata": {},
   "outputs": [],
   "source": [
    "plt.scatter(y,x)\n",
    "plt.scatter(y1,x1)"
   ]
  },
  {
   "cell_type": "code",
   "execution_count": null,
   "id": "d1819d8a",
   "metadata": {},
   "outputs": [],
   "source": [
    "df1 = pd.DataFrame(np.vstack([y,x]).T , columns = [\"X1\",\"X2\"])\n",
    "df1[\"Y\"] = 0\n",
    "df2 = pd.DataFrame(np.vstack([y1,x1]).T , columns = [\"X1\",\"X2\"])\n",
    "df2[\"Y\"] = 1"
   ]
  },
  {
   "cell_type": "code",
   "execution_count": null,
   "id": "719c99ab",
   "metadata": {},
   "outputs": [],
   "source": [
    "df = df1.append(df2)"
   ]
  },
  {
   "cell_type": "code",
   "execution_count": null,
   "id": "0f346b2e",
   "metadata": {},
   "outputs": [],
   "source": [
    "df"
   ]
  },
  {
   "cell_type": "code",
   "execution_count": null,
   "id": "eabd8041",
   "metadata": {},
   "outputs": [],
   "source": [
    "## Independent and dependent features\n",
    "x = df.iloc[:, :2]\n",
    "y = df[\"Y\"]"
   ]
  },
  {
   "cell_type": "code",
   "execution_count": null,
   "id": "514cbe36",
   "metadata": {},
   "outputs": [],
   "source": [
    "# Split data in to train and test \n",
    "from sklearn.model_selection import train_test_split\n",
    "x_train,x_test,y_train,y_test=train_test_split(x,y,test_size=0.3,random_state=0)"
   ]
  },
  {
   "cell_type": "code",
   "execution_count": null,
   "id": "ae11b3c7",
   "metadata": {},
   "outputs": [],
   "source": [
    "from sklearn.svm import SVC\n",
    "classifier=SVC(kernel=\"rbf\")\n",
    "classifier.fit(x_train,y_train)"
   ]
  },
  {
   "cell_type": "code",
   "execution_count": null,
   "id": "50932c2f",
   "metadata": {},
   "outputs": [],
   "source": [
    "from sklearn.metrics import confusion_matrix , classification_report\n",
    "from sklearn import metrics"
   ]
  },
  {
   "cell_type": "code",
   "execution_count": null,
   "id": "ec84d5bd",
   "metadata": {},
   "outputs": [],
   "source": [
    "pred_y = classifier.predict(x_test)"
   ]
  },
  {
   "cell_type": "code",
   "execution_count": null,
   "id": "01c5128f",
   "metadata": {},
   "outputs": [],
   "source": [
    "print('\\n Test performance :')\n",
    "print('-----------------------------')\n",
    "print(classification_report(y_test, pred_y))"
   ]
  },
  {
   "cell_type": "markdown",
   "id": "3a576ef4",
   "metadata": {},
   "source": [
    "# Polynomial Kernel"
   ]
  },
  {
   "cell_type": "code",
   "execution_count": null,
   "id": "4bdb6d89",
   "metadata": {},
   "outputs": [],
   "source": [
    "# We need to find polynomical kernel\n",
    "df[\"X1_Square\"] = df[\"X1\"]**2\n",
    "df[\"X2_Square\"] = df[\"X2\"]**2\n",
    "df[\"X1*X2\"] = (df[\"X1\"]*df[\"X2\"])\n",
    "df"
   ]
  },
  {
   "cell_type": "code",
   "execution_count": null,
   "id": "aaa5fb51",
   "metadata": {},
   "outputs": [],
   "source": [
    "import plotly.express as px\n",
    "fig = px.scatter_3d(df , x = \"X1\" , y = \"X2\" , z = \"X1*X2\" , color = \"Y\")\n",
    "fig.show()"
   ]
  },
  {
   "cell_type": "code",
   "execution_count": null,
   "id": "7a3b4eee",
   "metadata": {},
   "outputs": [],
   "source": [
    "#import kaleido\n",
    "#fig.write_html(\"Downloads/fig10.html\")"
   ]
  },
  {
   "cell_type": "code",
   "execution_count": null,
   "id": "7e64b4df",
   "metadata": {},
   "outputs": [],
   "source": [
    "fig1 = px.scatter_3d(df , x = \"X1_Square\" , y = \"X2_Square\" , z = \"X1*X2\" , color = \"Y\")\n",
    "fig1.show()"
   ]
  },
  {
   "cell_type": "code",
   "execution_count": null,
   "id": "920b0b20",
   "metadata": {},
   "outputs": [],
   "source": [
    "#fig1.write_html(\"Downloads/fig1.html\")"
   ]
  },
  {
   "cell_type": "code",
   "execution_count": null,
   "id": "d83cfff2",
   "metadata": {},
   "outputs": [],
   "source": [
    "import plotly.graph_objs as go\n",
    "from sklearn import svm\n",
    "\n",
    "# separate features and labels\n",
    "X = df.iloc[:, 0:2]\n",
    "y = df.iloc[:, 2]\n",
    "\n",
    "# fit SVM model\n",
    "clf = svm.SVC(kernel='linear')\n",
    "clf.fit(X, y)\n",
    "\n",
    "# define meshgrid\n",
    "xx, yy = np.meshgrid(np.linspace(-10, 10, 500), np.linspace(-10, 10, 500))\n",
    "\n",
    "# predict labels for meshgrid\n",
    "Z = clf.predict(np.c_[xx.ravel(), yy.ravel()])\n",
    "Z = Z.reshape(xx.shape)\n",
    "\n",
    "# create Plotly figure\n",
    "fig = go.Figure()\n",
    "\n",
    "# add meshgrid surface\n",
    "fig.add_trace(go.Surface(x=xx, y=yy, z=Z, colorscale='Portland', opacity=0.5))\n",
    "\n",
    "# add scatter plot of data points\n",
    "fig.add_trace(go.Scatter3d(x=X.iloc[:, 0], y=X.iloc[:, 1], z=y,\n",
    "                           mode='markers', marker=dict(color=y, colorscale='Viridis', size=3)))\n",
    "\n",
    "\n",
    "# show plot\n",
    "fig.show()"
   ]
  },
  {
   "cell_type": "code",
   "execution_count": null,
   "id": "2d854f8b",
   "metadata": {},
   "outputs": [],
   "source": [
    "#fig.write_html(\"Downloads/fig_kernel.html\")"
   ]
  },
  {
   "cell_type": "code",
   "execution_count": null,
   "id": "afb77737",
   "metadata": {},
   "outputs": [],
   "source": [
    "# separate features and labels\n",
    "X = df.iloc[:, 0:2]\n",
    "y = df.iloc[:, 2]\n",
    "\n",
    "# fit SVM model\n",
    "clf = svm.SVC(kernel='rbf')\n",
    "clf.fit(X, y)\n",
    "\n",
    "# define meshgrid\n",
    "xx, yy = np.meshgrid(np.linspace(-10, 10, 500), np.linspace(-10, 10, 500))\n",
    "\n",
    "# predict labels for meshgrid\n",
    "Z = clf.predict(np.c_[xx.ravel(), yy.ravel()])\n",
    "Z = Z.reshape(xx.shape)\n",
    "\n",
    "# create Plotly figure\n",
    "fig = go.Figure()\n",
    "\n",
    "# add meshgrid surface\n",
    "fig.add_trace(go.Surface(x=xx, y=yy, z=Z, colorscale='Portland', opacity=0.5))\n",
    "\n",
    "# add scatter plot of data points\n",
    "fig.add_trace(go.Scatter3d(x=X.iloc[:, 0], y=X.iloc[:, 1], z=y,\n",
    "                           mode='markers', marker=dict(color=y, colorscale='Viridis', size=3)))\n",
    "\n",
    "\n",
    "# show plot\n",
    "fig.show()"
   ]
  },
  {
   "cell_type": "markdown",
   "id": "4456d071",
   "metadata": {},
   "source": [
    "# "
   ]
  },
  {
   "cell_type": "markdown",
   "id": "dd737cce",
   "metadata": {},
   "source": [
    "# "
   ]
  },
  {
   "cell_type": "markdown",
   "id": "b6c953c3",
   "metadata": {},
   "source": [
    "# Part 2 - Dataset "
   ]
  },
  {
   "cell_type": "code",
   "execution_count": null,
   "id": "dfe75037",
   "metadata": {},
   "outputs": [],
   "source": [
    "import os\n",
    "os.chdir('C:\\\\Users\\\\PC\\\\Downloads')"
   ]
  },
  {
   "cell_type": "code",
   "execution_count": null,
   "id": "4825708d",
   "metadata": {},
   "outputs": [],
   "source": [
    "data = pd.read_csv('data.csv')\n",
    "data.drop(['Unnamed: 32','id'] , axis = 1 , inplace = True)"
   ]
  },
  {
   "cell_type": "code",
   "execution_count": null,
   "id": "ad43851e",
   "metadata": {},
   "outputs": [],
   "source": [
    "data"
   ]
  },
  {
   "cell_type": "code",
   "execution_count": null,
   "id": "59048b93",
   "metadata": {},
   "outputs": [],
   "source": [
    "data.diagnosis.unique()"
   ]
  },
  {
   "cell_type": "code",
   "execution_count": null,
   "id": "e4be6444",
   "metadata": {},
   "outputs": [],
   "source": [
    "data.loc[data[\"diagnosis\"]==\"M\",\"diagnosis\"] = 0\n",
    "data.loc[data[\"diagnosis\"]==\"B\",\"diagnosis\"] = 1\n",
    "\n",
    "data[\"diagnosis\"] = data[\"diagnosis\"].astype(int)"
   ]
  },
  {
   "cell_type": "code",
   "execution_count": null,
   "id": "9c565dd8",
   "metadata": {},
   "outputs": [],
   "source": [
    "data.isna().sum()"
   ]
  },
  {
   "cell_type": "code",
   "execution_count": null,
   "id": "1edfdbd0",
   "metadata": {},
   "outputs": [],
   "source": [
    "data.info()"
   ]
  },
  {
   "cell_type": "code",
   "execution_count": null,
   "id": "a580465a",
   "metadata": {},
   "outputs": [],
   "source": [
    "data.columns"
   ]
  },
  {
   "cell_type": "code",
   "execution_count": null,
   "id": "ce18c02c",
   "metadata": {},
   "outputs": [],
   "source": [
    "from sklearn.preprocessing import StandardScaler\n",
    "\n",
    "scale= StandardScaler()\n",
    "for col in data.drop(\"diagnosis\",axis = 1).columns:\n",
    "    data[col] = scale.fit_transform(data[[col]])"
   ]
  },
  {
   "cell_type": "code",
   "execution_count": null,
   "id": "8ff0286b",
   "metadata": {},
   "outputs": [],
   "source": [
    "data.drop(\"diagnosis\",axis = 1).corr().style.background_gradient(cmap='viridis')\n",
    "# perimeter_mean , area_mean , radius_worst ,perimeter_worst , area_worst\n",
    "# texture_worst , concavity_mean , concave points_worst"
   ]
  },
  {
   "cell_type": "code",
   "execution_count": null,
   "id": "9f8b4072",
   "metadata": {},
   "outputs": [],
   "source": [
    "# correlation with dataset - target value\n",
    "data.corr()['diagnosis']\n",
    "\n",
    "# symmetry_se , texture_se , fractal_dimension_mean "
   ]
  },
  {
   "cell_type": "code",
   "execution_count": null,
   "id": "21bd2e17",
   "metadata": {},
   "outputs": [],
   "source": [
    "data.drop([\"fractal_dimension_mean\" , \"perimeter_mean\" , \"area_mean\" , \"radius_worst\" , \"perimeter_worst\" , \"area_worst\" ,\n",
    "           \"texture_worst\" , \"concavity_mean\" , \"concave points_worst\" , \"symmetry_se\" , \"texture_se\"] , \n",
    "          axis = 1 , inplace = True)"
   ]
  },
  {
   "cell_type": "code",
   "execution_count": null,
   "id": "d09ca3b8",
   "metadata": {},
   "outputs": [],
   "source": [
    "y = data['diagnosis']\n",
    "x = data.drop('diagnosis',axis = 1)"
   ]
  },
  {
   "cell_type": "code",
   "execution_count": null,
   "id": "a9e86c14",
   "metadata": {},
   "outputs": [],
   "source": [
    "x_train, x_test, y_train, y_test = train_test_split(x, y, test_size=0.3, random_state=0)"
   ]
  },
  {
   "cell_type": "code",
   "execution_count": null,
   "id": "961f2012",
   "metadata": {},
   "outputs": [],
   "source": [
    "from sklearn.svm import SVC"
   ]
  },
  {
   "cell_type": "code",
   "execution_count": null,
   "id": "3d8a5b00",
   "metadata": {},
   "outputs": [],
   "source": [
    "from sklearn.metrics import accuracy_score\n",
    "\n",
    "for i in [\"linear\", \"poly\", \"rbf\", \"sigmoid\"]:\n",
    "    svc=SVC(kernel = i) \n",
    "    svc.fit(x_train, y_train)\n",
    "    y_pred=svc.predict(x_test)\n",
    "    print(i ,'kernel -> model accuracy : {0:0.3f}'. format(accuracy_score(y_test, y_pred)))"
   ]
  },
  {
   "cell_type": "markdown",
   "id": "aa143a38",
   "metadata": {},
   "source": [
    "# "
   ]
  }
 ],
 "metadata": {
  "kernelspec": {
   "display_name": "Python 3 (ipykernel)",
   "language": "python",
   "name": "python3"
  },
  "language_info": {
   "codemirror_mode": {
    "name": "ipython",
    "version": 3
   },
   "file_extension": ".py",
   "mimetype": "text/x-python",
   "name": "python",
   "nbconvert_exporter": "python",
   "pygments_lexer": "ipython3",
   "version": "3.9.12"
  }
 },
 "nbformat": 4,
 "nbformat_minor": 5
}
